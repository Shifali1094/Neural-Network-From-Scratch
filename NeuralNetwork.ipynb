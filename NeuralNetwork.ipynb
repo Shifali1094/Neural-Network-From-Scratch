{
 "cells": [
  {
   "cell_type": "code",
   "execution_count": 1,
   "id": "03fb2672",
   "metadata": {},
   "outputs": [],
   "source": [
    "import numpy as np \n",
    "import matplotlib.pyplot as plt"
   ]
  },
  {
   "cell_type": "code",
   "execution_count": 2,
   "id": "13f862a5",
   "metadata": {},
   "outputs": [],
   "source": [
    "def __init__(self, layer_sizes, activation='relu', seed=42):\n",
    "    np.random.seed(seed)\n",
    "    self.layer_sizes = layer_sizes\n",
    "    self.num_layers = len(layer_sizes) - 1\n",
    "    self.activation = activation\n",
    "\n",
    "    # Initialize weights and biases using Xavier initialisation\n",
    "    self.weights = []\n",
    "    self.biases = []\n",
    "\n",
    "    for i in range(self.num_layers):\n",
    "        weight_matrix = np.random.randn(layer_sizes[i], layer_sizes[i+1]) * np.sqrt(2 / (layer_sizes[i] + layer_sizes[i+1]))\n",
    "        bias_vector = np.zeros((1, layer_sizes[i+1]))\n",
    "        self.weights.append(weight_matrix)\n",
    "        self.biases.append(bias_vector)\n",
    "    \n",
    "    print(f\"Initialized network with layer sizes: {layer_sizes}\")\n",
    "    print(f\"Activation function: {activation}\")\n",
    "    print(f\"Number of layers: {self.num_layers}\")"
   ]
  },
  {
   "cell_type": "code",
   "execution_count": 3,
   "id": "0e007713",
   "metadata": {},
   "outputs": [],
   "source": [
    "def count_parameters(self):\n",
    "    total_params = 0\n",
    "    for w, b in zip(self.weights, self.biases):\n",
    "        total_params += w.size + b.size\n",
    "    return total_params"
   ]
  },
  {
   "cell_type": "markdown",
   "id": "89536767",
   "metadata": {},
   "source": [
    "Activation functiosn with their respective derivative"
   ]
  },
  {
   "cell_type": "code",
   "execution_count": 4,
   "id": "c2ab5c4e",
   "metadata": {},
   "outputs": [],
   "source": [
    "def relu(self, x):\n",
    "    return np.maximum(0, x)\n",
    "def relu_derivative(self, x):\n",
    "    return (x > 0).astype(float)\n",
    "\n",
    "def tanh(self, x):\n",
    "    return np.tanh(x)\n",
    "def tanh_derivative(self, x):\n",
    "    return 1 - np.tanh(x)**2\n",
    "\n",
    "def sigmoid(self, x):\n",
    "    return 1 / (1 + np.exp(-x))\n",
    "def sigmoid_derivative(self, x):\n",
    "    sig = self.sigmoid(x)\n",
    "    return sig * (1 - sig)\n",
    "\n",
    "def softmax(self, x):\n",
    "    exp_x = np.exp(x - np.max(x, axis=1, keepdims=True))\n",
    "    return exp_x / np.sum(exp_x, axis=1, keepdims=True)\n",
    "\n",
    "def apply_activation(self, x):\n",
    "    if self.activation == 'relu':\n",
    "        return self.relu(x)\n",
    "    elif self.activation == 'tanh':\n",
    "        return self.tanh(x)\n",
    "    elif self.activation == 'sigmoid':\n",
    "        return self.sigmoid(x)\n",
    "    else:\n",
    "        raise ValueError(\"Unsupported activation function: {activation_type}\")"
   ]
  },
  {
   "cell_type": "markdown",
   "id": "ae41e4d8",
   "metadata": {},
   "source": [
    "Forward propagation throughout the network\n",
    "\n",
    "mathematical formulation: \n",
    "    For each layer *l*: \n",
    "    Z[l] = A[l-1] @ W[l] + b[l] (Linear transformation)\n",
    "    A[l] = activation(Z[l]) (Activation Function)\n",
    "\n",
    "    Final Layer uses Softmax for classifcation\n",
    "\n",
    "    Args: \n",
    "        X: Input data (batch_size, input_features)\n",
    "        return_cache: If true return immediate values for back prop\n",
    "\n",
    "    returns: \n",
    "        Predictions: Final output probaility (batch_size, num_classes)\n",
    "        cache: Dictionary of intermediate values (if return_cache=True)"
   ]
  },
  {
   "cell_type": "code",
   "execution_count": null,
   "id": "8e12257d",
   "metadata": {},
   "outputs": [],
   "source": [
    "def forward_pass(self, X, return_cache):\n",
    "    cache = {}\n",
    "    A = X\n",
    "    cache['A0'] = X # Store input as activation of layer 0\n",
    "\n",
    "    for i in range(self.num_layers):\n",
    "        # Hidden Layers\n",
    "        Z = np.dot(A, self.weights[i]) + self.biases[i]\n",
    "        if i < self.num_layers - 1:\n",
    "            A = self.apply_activation(Z)\n",
    "        else:\n",
    "            A = self.softmax(Z)  # Output layer with softmax\n",
    "        \n",
    "        cache[f'Z{i+1}'] = Z\n",
    "        cache[f'A{i+1}'] = A\n",
    "\n",
    "    if return_cache:\n",
    "        return A, cache\n",
    "    return A\n",
    "\n",
    "def predict(self, X):\n",
    "    probabilities = self.forward_pass(X, return_cache=False)\n",
    "    return np.argmax(probabilities, axis=1)"
   ]
  },
  {
   "cell_type": "code",
   "execution_count": null,
   "id": "6712c6fe",
   "metadata": {},
   "outputs": [],
   "source": []
  }
 ],
 "metadata": {
  "kernelspec": {
   "display_name": "NN",
   "language": "python",
   "name": "python3"
  },
  "language_info": {
   "codemirror_mode": {
    "name": "ipython",
    "version": 3
   },
   "file_extension": ".py",
   "mimetype": "text/x-python",
   "name": "python",
   "nbconvert_exporter": "python",
   "pygments_lexer": "ipython3",
   "version": "3.12.1"
  }
 },
 "nbformat": 4,
 "nbformat_minor": 5
}
